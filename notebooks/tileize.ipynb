{
 "cells": [
  {
   "cell_type": "code",
   "execution_count": 1,
   "id": "0f70b8eb",
   "metadata": {},
   "outputs": [],
   "source": [
    "import mercantile\n"
   ]
  },
  {
   "cell_type": "code",
   "execution_count": 2,
   "id": "d9f612c2",
   "metadata": {},
   "outputs": [],
   "source": [
    "# EPSG:4326 bounding box: (west, south, east, north)\n",
    "bbox_4326 = (-80.8751, 37.5464, -80.4477, 37.7997)\n",
    "zoom = 17"
   ]
  },
  {
   "cell_type": "code",
   "execution_count": 3,
   "id": "6931f997",
   "metadata": {},
   "outputs": [],
   "source": [
    "tiles = list(mercantile.tiles(*bbox_4326, zoom))\n"
   ]
  },
  {
   "cell_type": "code",
   "execution_count": 5,
   "id": "0d4da456",
   "metadata": {},
   "outputs": [
    {
     "name": "stdout",
     "output_type": "stream",
     "text": [
      "x range: 36090 to 36245\n",
      "y range: 50650 to 50767\n",
      "number of tiles: 18408\n"
     ]
    }
   ],
   "source": [
    "\n",
    "x_vals = [tile.x for tile in tiles]\n",
    "y_vals = [tile.y for tile in tiles]\n",
    "\n",
    "x_min, x_max = min(x_vals), max(x_vals)\n",
    "y_min, y_max = min(y_vals), max(y_vals)\n",
    "\n",
    "print(f\"x range: {x_min} to {x_max}\")\n",
    "print(f\"y range: {y_min} to {y_max}\")\n",
    "print(f\"number of tiles: {len(tiles)}\")"
   ]
  },
  {
   "cell_type": "code",
   "execution_count": 8,
   "id": "aa388c06",
   "metadata": {},
   "outputs": [],
   "source": [
    "from osgeo import gdal\n",
    "import os"
   ]
  },
  {
   "cell_type": "code",
   "execution_count": 9,
   "id": "e7d21163",
   "metadata": {},
   "outputs": [],
   "source": [
    "input_tif = \"../data/processed/masks/wv_mask_full.tif\"\n",
    "output_dir = \"data/processed/tiles/mask_from_gdal/\"\n"
   ]
  },
  {
   "cell_type": "code",
   "execution_count": 11,
   "id": "bce294ca",
   "metadata": {},
   "outputs": [],
   "source": [
    "\n",
    "options = gdal.WarpOptions(\n",
    "    format=\"GTiff\",\n",
    "    outputBounds=bbox_4326,\n",
    "    dstSRS=\"EPSG:3857\",  # required for TMS tiling\n",
    "    xRes=1.1943285668550503,\n",
    "    yRes=1.1943285668550503,\n",
    "    resampleAlg=\"near\"\n",
    ")"
   ]
  },
  {
   "cell_type": "code",
   "execution_count": 13,
   "id": "8ed9b73c",
   "metadata": {},
   "outputs": [],
   "source": [
    "# Now tile using gdal2tiles functionality\n",
    "from osgeo import gdal_array\n",
    "from gdal2tiles import generate_tiles, GDAL2Tiles\n"
   ]
  },
  {
   "cell_type": "code",
   "execution_count": 17,
   "id": "6f7a7b51",
   "metadata": {},
   "outputs": [],
   "source": [
    "# Prepare arguments for GDAL2Tiles\n",
    "args = [\n",
    "    \"--zoom=17\",\n",
    "    \"--tilesize=256\",\n",
    "    \"--tmscompatible\",\n",
    "    \"--profile=mercator\",\n",
    "    \n",
    "]"
   ]
  },
  {
   "cell_type": "code",
   "execution_count": null,
   "id": "3011bada",
   "metadata": {},
   "outputs": [
    {
     "ename": "AttributeError",
     "evalue": "'list' object has no attribute 'resampling'",
     "output_type": "error",
     "traceback": [
      "\u001b[0;31m---------------------------------------------------------------------------\u001b[0m",
      "\u001b[0;31mAttributeError\u001b[0m                            Traceback (most recent call last)",
      "Cell \u001b[0;32mIn[18], line 2\u001b[0m\n\u001b[1;32m      1\u001b[0m \u001b[38;5;66;03m# Parse and run\u001b[39;00m\n\u001b[0;32m----> 2\u001b[0m gdal2tiles_processor \u001b[38;5;241m=\u001b[39m \u001b[43mGDAL2Tiles\u001b[49m\u001b[43m(\u001b[49m\u001b[43minput_tif\u001b[49m\u001b[43m,\u001b[49m\n\u001b[1;32m      3\u001b[0m \u001b[43m    \u001b[49m\u001b[43moutput_dir\u001b[49m\u001b[43m,\u001b[49m\u001b[43margs\u001b[49m\u001b[43m)\u001b[49m\n\u001b[1;32m      4\u001b[0m gdal2tiles_processor\u001b[38;5;241m.\u001b[39mprocess()\n",
      "File \u001b[0;32m~/compsci/foresttrace/.venv/lib/python3.10/site-packages/gdal2tiles/gdal2tiles.py:1359\u001b[0m, in \u001b[0;36mGDAL2Tiles.__init__\u001b[0;34m(self, input_file, output_folder, options)\u001b[0m\n\u001b[1;32m   1356\u001b[0m \u001b[38;5;28mself\u001b[39m\u001b[38;5;241m.\u001b[39moutput_folder \u001b[38;5;241m=\u001b[39m output_folder\n\u001b[1;32m   1357\u001b[0m \u001b[38;5;28mself\u001b[39m\u001b[38;5;241m.\u001b[39moptions \u001b[38;5;241m=\u001b[39m options\n\u001b[0;32m-> 1359\u001b[0m \u001b[38;5;28;01mif\u001b[39;00m \u001b[38;5;28;43mself\u001b[39;49m\u001b[38;5;241;43m.\u001b[39;49m\u001b[43moptions\u001b[49m\u001b[38;5;241;43m.\u001b[39;49m\u001b[43mresampling\u001b[49m \u001b[38;5;241m==\u001b[39m \u001b[38;5;124m'\u001b[39m\u001b[38;5;124mnear\u001b[39m\u001b[38;5;124m'\u001b[39m:\n\u001b[1;32m   1360\u001b[0m     \u001b[38;5;28mself\u001b[39m\u001b[38;5;241m.\u001b[39mquerysize \u001b[38;5;241m=\u001b[39m \u001b[38;5;28mself\u001b[39m\u001b[38;5;241m.\u001b[39mtilesize\n\u001b[1;32m   1362\u001b[0m \u001b[38;5;28;01melif\u001b[39;00m \u001b[38;5;28mself\u001b[39m\u001b[38;5;241m.\u001b[39moptions\u001b[38;5;241m.\u001b[39mresampling \u001b[38;5;241m==\u001b[39m \u001b[38;5;124m'\u001b[39m\u001b[38;5;124mbilinear\u001b[39m\u001b[38;5;124m'\u001b[39m:\n",
      "\u001b[0;31mAttributeError\u001b[0m: 'list' object has no attribute 'resampling'"
     ]
    }
   ],
   "source": [
    "# Parse and run\n",
    "gdal2tiles_processor = GDAL2Tiles(input_tif,output_dir,args)\n",
    "gdal2tiles_processor.process()"
   ]
  }
 ],
 "metadata": {
  "kernelspec": {
   "display_name": ".venv",
   "language": "python",
   "name": "python3"
  },
  "language_info": {
   "codemirror_mode": {
    "name": "ipython",
    "version": 3
   },
   "file_extension": ".py",
   "mimetype": "text/x-python",
   "name": "python",
   "nbconvert_exporter": "python",
   "pygments_lexer": "ipython3",
   "version": "3.10.5"
  }
 },
 "nbformat": 4,
 "nbformat_minor": 5
}
